{
 "cells": [
  {
   "cell_type": "code",
   "execution_count": 35,
   "id": "106dd175",
   "metadata": {},
   "outputs": [
    {
     "name": "stdout",
     "output_type": "stream",
     "text": [
      "2023年4月全球富豪排行前10名\n",
      "     排名                名稱            財富來源      淨資產\n",
      "0   1th   Bernard Arnault           LVMH   2,110 億\n",
      "1   2th         Elon Musk     特斯拉、SpaceX   1,800 億\n",
      "2   3th        Jeff Bezos             亞馬遜  1,140 億\n",
      "3   4th     Larry Ellison           甲骨文公司  1,070 億\n",
      "4   5th    Warren Buffett        波克夏海瑟威公司  1,065 億\n",
      "5   6th        Bill Gates              微軟  1,040 億\n",
      "6   7th    Mike Bloomberg  Bloomberg L.P.    945 億\n",
      "7   8th  Carlos Slim Helú              電信    930 億\n",
      "8   9th     Mukesh Ambani              多元    834 億\n",
      "9  10th    Steve Ballmer               微軟    807 億\n",
      " \n",
      "2023年12月全球富豪排行前10名\n",
      "     排名               名稱         財富來源      淨資產\n",
      "0   1th        Elon Musk  特斯拉、SpaceX   2,380 億\n",
      "1   2th  Bernard Arnault        LVMH   1,790 億\n",
      "2   3th       Jeff Bezos          亞馬遜  1,780 億\n",
      "3   4th       Bill Gates           微軟  1,400 億\n",
      "4   5th   Steve Ballmer            微軟  1,300 億\n",
      "5   6th  Mark Zuckerberg         Meta  1,290 億\n",
      "6   7th       Larry Page       Google  1,270 億\n",
      "7   8th    Larry Ellison        甲骨文公司  1,240 億\n",
      "8   9th      Sergey Brin       Google  1,200 億\n",
      "9  10th   Warren Buffett     波克夏海瑟威公司  1,200 億\n",
      " \n",
      "4月及12月有在榜上的所有人(聯集): {'Bill Gates', 'Larry Page', 'Bernard Arnault', 'Mike Bloomberg', 'Warren Buffett', 'Mukesh Ambani', 'Mark Zuckerberg', 'Larry Ellison', 'Elon Musk', 'Carlos Slim Helú', 'Sergey Brin', 'Steve Ballmer\\xa0', 'Jeff Bezos'}\n",
      " \n",
      "12月新上榜或下榜的人(差集): {'Mike Bloomberg', 'Carlos Slim Helú', 'Mukesh Ambani'}\n",
      " \n",
      "4月及12月都在榜上(交集): {'Bill Gates', 'Larry Ellison', 'Elon Musk', 'Bernard Arnault', 'Steve Ballmer\\xa0', 'Warren Buffett', 'Jeff Bezos'}\n"
     ]
    }
   ],
   "source": [
    "import pandas as pd\n",
    "\n",
    "rich04 = pd.read_csv('./rich202304.csv')\n",
    "rich12 = pd.read_csv('./rich202312.csv')\n",
    "\n",
    "print(\"2023年4月全球富豪排行前10名\")\n",
    "print(rich04)\n",
    "print(\" \")\n",
    "\n",
    "print(\"2023年12月全球富豪排行前10名\")\n",
    "print(rich12)\n",
    "print(\" \")\n",
    "\n",
    "set1 = set(rich04['名稱'])\n",
    "set2 = set(rich12['名稱'])\n",
    "\n",
    "# 聯集\n",
    "union = set1.union(set2)\n",
    "print(\"4月及12月有在榜上的所有人(聯集):\", union)\n",
    "print(\" \")\n",
    "\n",
    "# 差集\n",
    "difference = set1.difference(set2)\n",
    "print(\"12月新上榜或下榜的人(差集):\", difference)\n",
    "print(\" \")\n",
    "\n",
    "# 交集\n",
    "intersection = set1.intersection(set2)\n",
    "print(\"4月及12月都在榜上(交集):\", intersection)"
   ]
  },
  {
   "cell_type": "code",
   "execution_count": null,
   "id": "2bff3d22",
   "metadata": {},
   "outputs": [],
   "source": []
  },
  {
   "cell_type": "code",
   "execution_count": null,
   "id": "3e55aa81",
   "metadata": {},
   "outputs": [],
   "source": []
  },
  {
   "cell_type": "code",
   "execution_count": null,
   "id": "0b9f86a2",
   "metadata": {},
   "outputs": [],
   "source": []
  },
  {
   "cell_type": "code",
   "execution_count": null,
   "id": "7a7d80b0",
   "metadata": {},
   "outputs": [],
   "source": []
  }
 ],
 "metadata": {
  "kernelspec": {
   "display_name": "Python 3 (ipykernel)",
   "language": "python",
   "name": "python3"
  },
  "language_info": {
   "codemirror_mode": {
    "name": "ipython",
    "version": 3
   },
   "file_extension": ".py",
   "mimetype": "text/x-python",
   "name": "python",
   "nbconvert_exporter": "python",
   "pygments_lexer": "ipython3",
   "version": "3.11.5"
  }
 },
 "nbformat": 4,
 "nbformat_minor": 5
}
